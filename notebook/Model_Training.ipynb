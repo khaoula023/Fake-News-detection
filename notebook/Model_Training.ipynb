{
 "cells": [
  {
   "cell_type": "markdown",
   "metadata": {},
   "source": [
    "# Fake News Detection\n",
    "The dataset is fully prepped for model use and has complete labels. The True articles are sourced from The New York Times website, while the fabricated (Fake) articles are retrieved from the AFP Fact Check website."
   ]
  },
  {
   "cell_type": "code",
   "execution_count": 1,
   "metadata": {},
   "outputs": [],
   "source": [
    "import pandas as pd\n",
    "import numpy as np\n",
    "import matplotlib.pyplot as plt\n",
    "from sklearn.model_selection import train_test_split\n",
    "# Modelling\n",
    "from sklearn.tree import DecisionTreeClassifier\n",
    "from sklearn.neighbors import KNeighborsClassifier\n",
    "from sklearn.naive_bayes import GaussianNB\n",
    "from sklearn.ensemble import RandomForestClassifier,  GradientBoostingClassifier\n",
    "from sklearn.metrics import accuracy_score, precision_score, recall_score, f1_score, confusion_matrix, ConfusionMatrixDisplay\n",
    "from sklearn.feature_extraction.text import TfidfVectorizer\n",
    "from sklearn.model_selection import GridSearchCV\n",
    "import warnings\n",
    "warnings.filterwarnings('ignore') "
   ]
  },
  {
   "cell_type": "markdown",
   "metadata": {},
   "source": [
    "## Loading the dataset"
   ]
  },
  {
   "cell_type": "code",
   "execution_count": 2,
   "metadata": {},
   "outputs": [
    {
     "data": {
      "text/html": [
       "<div>\n",
       "<style scoped>\n",
       "    .dataframe tbody tr th:only-of-type {\n",
       "        vertical-align: middle;\n",
       "    }\n",
       "\n",
       "    .dataframe tbody tr th {\n",
       "        vertical-align: top;\n",
       "    }\n",
       "\n",
       "    .dataframe thead th {\n",
       "        text-align: right;\n",
       "    }\n",
       "</style>\n",
       "<table border=\"1\" class=\"dataframe\">\n",
       "  <thead>\n",
       "    <tr style=\"text-align: right;\">\n",
       "      <th></th>\n",
       "      <th>text</th>\n",
       "      <th>label</th>\n",
       "    </tr>\n",
       "  </thead>\n",
       "  <tbody>\n",
       "    <tr>\n",
       "      <th>0</th>\n",
       "      <td>sing praise mahinda lose voice sri lanka disro...</td>\n",
       "      <td>1</td>\n",
       "    </tr>\n",
       "    <tr>\n",
       "      <th>1</th>\n",
       "      <td>kojc rally first time davao city appoint son god</td>\n",
       "      <td>1</td>\n",
       "    </tr>\n",
       "    <tr>\n",
       "      <th>2</th>\n",
       "      <td>bill gate people resist mrna tsunami exclude s...</td>\n",
       "      <td>1</td>\n",
       "    </tr>\n",
       "    <tr>\n",
       "      <th>3</th>\n",
       "      <td>cure covid19 forward budesonide asthma drug pl...</td>\n",
       "      <td>1</td>\n",
       "    </tr>\n",
       "    <tr>\n",
       "      <th>4</th>\n",
       "      <td>president trump form patriot party 81 day elec...</td>\n",
       "      <td>1</td>\n",
       "    </tr>\n",
       "  </tbody>\n",
       "</table>\n",
       "</div>"
      ],
      "text/plain": [
       "                                                text  label\n",
       "0  sing praise mahinda lose voice sri lanka disro...      1\n",
       "1   kojc rally first time davao city appoint son god      1\n",
       "2  bill gate people resist mrna tsunami exclude s...      1\n",
       "3  cure covid19 forward budesonide asthma drug pl...      1\n",
       "4  president trump form patriot party 81 day elec...      1"
      ]
     },
     "execution_count": 2,
     "metadata": {},
     "output_type": "execute_result"
    }
   ],
   "source": [
    "data = pd.read_csv(r'Data\\News.csv')\n",
    "data.head()"
   ]
  },
  {
   "cell_type": "code",
   "execution_count": 3,
   "metadata": {},
   "outputs": [
    {
     "name": "stdout",
     "output_type": "stream",
     "text": [
      "This data has 12520 articles\n"
     ]
    }
   ],
   "source": [
    "print(f\"This data has {data.shape[0]} articles\")"
   ]
  },
  {
   "cell_type": "markdown",
   "metadata": {},
   "source": [
    "## Check the bias in the data:"
   ]
  },
  {
   "cell_type": "code",
   "execution_count": 4,
   "metadata": {},
   "outputs": [
    {
     "name": "stdout",
     "output_type": "stream",
     "text": [
      "label\n",
      "1    6996\n",
      "0    5524\n",
      "Name: count, dtype: int64\n"
     ]
    }
   ],
   "source": [
    "class_counts = data['label'].value_counts()\n",
    "print(class_counts)"
   ]
  },
  {
   "cell_type": "code",
   "execution_count": 5,
   "metadata": {},
   "outputs": [
    {
     "name": "stdout",
     "output_type": "stream",
     "text": [
      "The bias ratio in the data is 0.79\n"
     ]
    }
   ],
   "source": [
    "print(f'The bias ratio in the data is {5524/6996:.2f}')"
   ]
  },
  {
   "cell_type": "code",
   "execution_count": 6,
   "metadata": {},
   "outputs": [
    {
     "name": "stdout",
     "output_type": "stream",
     "text": [
      "\n",
      "Percentage Distribution:\n",
      "label\n",
      "1    55.878594\n",
      "0    44.121406\n",
      "Name: proportion, dtype: float64\n"
     ]
    }
   ],
   "source": [
    "# Calculate percentage distribution\n",
    "class_percentage = data['label'].value_counts(normalize=True) * 100\n",
    "print(\"\\nPercentage Distribution:\")\n",
    "print(class_percentage)"
   ]
  },
  {
   "cell_type": "code",
   "execution_count": 7,
   "metadata": {},
   "outputs": [
    {
     "data": {
      "image/png": "[encoded data removed]",
      "text/plain": [
       "<Figure size 640x480 with 1 Axes>"
      ]
     },
     "metadata": {},
     "output_type": "display_data"
    }
   ],
   "source": [
    "# Plot class distribution\n",
    "class_counts.plot(kind='bar', color=['blue', 'orange'])\n",
    "plt.title('Class Distribution')\n",
    "plt.xlabel('Class')\n",
    "plt.ylabel('Number of Samples')\n",
    "plt.xticks(rotation=0)\n",
    "plt.show()"
   ]
  },
  {
   "cell_type": "markdown",
   "metadata": {},
   "source": [
    "## Handel the bias in the data:"
   ]
  },
  {
   "cell_type": "code",
   "execution_count": 8,
   "metadata": {},
   "outputs": [],
   "source": [
    "# Split the dataset by label\n",
    "df_minority = data[data['label'] == 0]  # Minority class (label=0)\n",
    "df_majority = data[data['label'] == 1]  # Majority class (label=1)\n",
    "\n",
    "# Perform undersampling (reduce majority class to the size of minority class)\n",
    "df_majority_undersampled = df_majority.sample(n=len(df_minority), random_state=42)\n",
    "\n",
    "# Combine the undersampled majority class with the minority class\n",
    "df_balanced = pd.concat([df_minority, df_majority_undersampled])\n",
    "\n",
    "# Shuffle the dataset (optional, but recommended for randomization)\n",
    "df = df_balanced.sample(frac=1, random_state=42).reset_index(drop=True)"
   ]
  },
  {
   "cell_type": "code",
   "execution_count": 9,
   "metadata": {},
   "outputs": [
    {
     "data": {
      "image/png": "[encoded data removed]",
      "text/plain": [
       "<Figure size 640x480 with 1 Axes>"
      ]
     },
     "metadata": {},
     "output_type": "display_data"
    }
   ],
   "source": [
    "class_counts = df['label'].value_counts()\n",
    "# Plot class distribution\n",
    "class_counts.plot(kind='bar', color=['blue', 'orange'])\n",
    "plt.title('Class Distribution')\n",
    "plt.xlabel('Class')\n",
    "plt.ylabel('Number of Samples')\n",
    "plt.xticks(rotation=0)\n",
    "plt.show()"
   ]
  },
  {
   "cell_type": "markdown",
   "metadata": {},
   "source": [
    "## preparing X and y"
   ]
  },
  {
   "cell_type": "code",
   "execution_count": 10,
   "metadata": {},
   "outputs": [
    {
     "data": {
      "text/html": [
       "<div>\n",
       "<style scoped>\n",
       "    .dataframe tbody tr th:only-of-type {\n",
       "        vertical-align: middle;\n",
       "    }\n",
       "\n",
       "    .dataframe tbody tr th {\n",
       "        vertical-align: top;\n",
       "    }\n",
       "\n",
       "    .dataframe thead th {\n",
       "        text-align: right;\n",
       "    }\n",
       "</style>\n",
       "<table border=\"1\" class=\"dataframe\">\n",
       "  <thead>\n",
       "    <tr style=\"text-align: right;\">\n",
       "      <th></th>\n",
       "      <th>text</th>\n",
       "    </tr>\n",
       "  </thead>\n",
       "  <tbody>\n",
       "    <tr>\n",
       "      <th>0</th>\n",
       "      <td>atms close sic next 23 day probably due ransom...</td>\n",
       "    </tr>\n",
       "    <tr>\n",
       "      <th>1</th>\n",
       "      <td>humble tribute hero salman shah look internati...</td>\n",
       "    </tr>\n",
       "    <tr>\n",
       "      <th>2</th>\n",
       "      <td>translate english post title read part gasolin...</td>\n",
       "    </tr>\n",
       "    <tr>\n",
       "      <th>3</th>\n",
       "      <td>sikh community initiative ukraine guru ka langar</td>\n",
       "    </tr>\n",
       "    <tr>\n",
       "      <th>4</th>\n",
       "      <td>world business briefingafrica south africa ang...</td>\n",
       "    </tr>\n",
       "  </tbody>\n",
       "</table>\n",
       "</div>"
      ],
      "text/plain": [
       "                                                text\n",
       "0  atms close sic next 23 day probably due ransom...\n",
       "1  humble tribute hero salman shah look internati...\n",
       "2  translate english post title read part gasolin...\n",
       "3   sikh community initiative ukraine guru ka langar\n",
       "4  world business briefingafrica south africa ang..."
      ]
     },
     "execution_count": 10,
     "metadata": {},
     "output_type": "execute_result"
    }
   ],
   "source": [
    "X = df.drop(columns=['label'],axis=1)\n",
    "X.head()"
   ]
  },
  {
   "cell_type": "code",
   "execution_count": 11,
   "metadata": {},
   "outputs": [
    {
     "data": {
      "text/html": [
       "<div>\n",
       "<style scoped>\n",
       "    .dataframe tbody tr th:only-of-type {\n",
       "        vertical-align: middle;\n",
       "    }\n",
       "\n",
       "    .dataframe tbody tr th {\n",
       "        vertical-align: top;\n",
       "    }\n",
       "\n",
       "    .dataframe thead th {\n",
       "        text-align: right;\n",
       "    }\n",
       "</style>\n",
       "<table border=\"1\" class=\"dataframe\">\n",
       "  <thead>\n",
       "    <tr style=\"text-align: right;\">\n",
       "      <th></th>\n",
       "      <th>label</th>\n",
       "    </tr>\n",
       "  </thead>\n",
       "  <tbody>\n",
       "    <tr>\n",
       "      <th>0</th>\n",
       "      <td>1</td>\n",
       "    </tr>\n",
       "    <tr>\n",
       "      <th>1</th>\n",
       "      <td>1</td>\n",
       "    </tr>\n",
       "    <tr>\n",
       "      <th>2</th>\n",
       "      <td>1</td>\n",
       "    </tr>\n",
       "    <tr>\n",
       "      <th>3</th>\n",
       "      <td>1</td>\n",
       "    </tr>\n",
       "    <tr>\n",
       "      <th>4</th>\n",
       "      <td>0</td>\n",
       "    </tr>\n",
       "  </tbody>\n",
       "</table>\n",
       "</div>"
      ],
      "text/plain": [
       "   label\n",
       "0      1\n",
       "1      1\n",
       "2      1\n",
       "3      1\n",
       "4      0"
      ]
     },
     "execution_count": 11,
     "metadata": {},
     "output_type": "execute_result"
    }
   ],
   "source": [
    "y = df[['label']]\n",
    "y.head()"
   ]
  },
  {
   "cell_type": "markdown",
   "metadata": {},
   "source": [
    "## Data Preprocessing:"
   ]
  },
  {
   "cell_type": "code",
   "execution_count": 12,
   "metadata": {},
   "outputs": [
    {
     "name": "stdout",
     "output_type": "stream",
     "text": [
      "Train: (8838, 1), Test: (2210, 1)\n"
     ]
    }
   ],
   "source": [
    "X_train, X_test, y_train, y_test = train_test_split(X, y, test_size=0.2)\n",
    "\n",
    "# Output the shapes of the training and test sets\n",
    "print(f'Train: {y_train.shape}, Test: {y_test.shape}')"
   ]
  },
  {
   "cell_type": "code",
   "execution_count": 13,
   "metadata": {},
   "outputs": [],
   "source": [
    "X_train = X_train['text'].tolist()\n",
    "X_test = X_test['text'].tolist()"
   ]
  },
  {
   "cell_type": "code",
   "execution_count": 14,
   "metadata": {},
   "outputs": [
    {
     "name": "stdout",
     "output_type": "stream",
     "text": [
      "(8838, 5000)\n",
      "(2210, 5000)\n"
     ]
    }
   ],
   "source": [
    "# Convert the text to numerical features using TF-IDF vectorization\n",
    "vectorizer = TfidfVectorizer(stop_words='english', max_features=5000)\n",
    "\n",
    "\n",
    "\n",
    "# Fit-transform the training data\n",
    "X_trainV = vectorizer.fit_transform(X_train).toarray()\n",
    "\n",
    "# Transform the test data (no need to reshape)\n",
    "X_testV = vectorizer.transform(X_test).toarray()\n",
    "\n",
    "# Check the shapes\n",
    "print(X_trainV.shape)\n",
    "print(X_testV.shape)\n"
   ]
  },
  {
   "cell_type": "markdown",
   "metadata": {},
   "source": [
    "# Model Training:"
   ]
  },
  {
   "cell_type": "code",
   "execution_count": 15,
   "metadata": {},
   "outputs": [],
   "source": [
    "def evaluate_model(true, predicted):\n",
    "    # Accuracy\n",
    "    accuracy = accuracy_score(true, predicted)\n",
    "    \n",
    "    # Precision (micro, macro, weighted average for multi-class)\n",
    "    precision = precision_score(true, predicted, average='weighted')\n",
    "    \n",
    "    # Recall (micro, macro, weighted average for multi-class)\n",
    "    recall = recall_score(true, predicted, average='weighted')\n",
    "    \n",
    "    # F1-Score (micro, macro, weighted average for multi-class)\n",
    "    f1 = f1_score(true, predicted, average='weighted')\n",
    "    \n",
    "    # Confusion Matrix\n",
    "    cm = confusion_matrix(true, predicted)\n",
    "    \n",
    "    return accuracy, precision, recall, f1, cm"
   ]
  },
  {
   "cell_type": "code",
   "execution_count": 16,
   "metadata": {},
   "outputs": [],
   "source": [
    "models = {\n",
    "    \"KNN\": KNeighborsClassifier(n_neighbors=3),\n",
    "    \"Naive Bayes\": GaussianNB(),\n",
    "    \"Decision Tree\": DecisionTreeClassifier(criterion='gini', max_depth=3, random_state=42),\n",
    "    \"Random Forest\" : RandomForestClassifier(n_estimators=100, random_state=42),\n",
    "    'Gradient Boosting':  GradientBoostingClassifier(n_estimators=10, learning_rate=0.1, max_depth=3, random_state=42)\n",
    "}"
   ]
  },
  {
   "cell_type": "code",
   "execution_count": 17,
   "metadata": {},
   "outputs": [
    {
     "name": "stderr",
     "output_type": "stream",
     "text": [
      "  File \"c:\\Users\\pc lenovo\\OneDrive\\Documents\\GitHub\\Fake-News-detection\\myenv\\Lib\\site-packages\\joblib\\externals\\loky\\backend\\context.py\", line 282, in _count_physical_cores\n",
      "    raise ValueError(f\"found {cpu_count_physical} physical cores < 1\")\n"
     ]
    },
    {
     "name": "stdout",
     "output_type": "stream",
     "text": [
      "KNN\n",
      "Model performance for Training set\n",
      "- Accuracy: 0.9162\n",
      "- precision: 0.9187\n",
      "- recall: 0.9162\n",
      "- F1-Score: 0.9160\n",
      "----------------------------------\n",
      "Model performance for Test set\n",
      "- Accuracy: 0.8154\n",
      "- precision: 0.8192\n",
      "- recall: 0.8154\n",
      "- F1-Score: 0.8148\n",
      "===================================\n",
      "\n",
      "\n",
      "Naive Bayes\n",
      "Model performance for Training set\n",
      "- Accuracy: 0.9001\n",
      "- precision: 0.9156\n",
      "- recall: 0.9001\n",
      "- F1-Score: 0.8992\n",
      "----------------------------------\n",
      "Model performance for Test set\n",
      "- Accuracy: 0.8190\n",
      "- precision: 0.8271\n",
      "- recall: 0.8190\n",
      "- F1-Score: 0.8178\n",
      "===================================\n",
      "\n",
      "\n",
      "Decision Tree\n",
      "Model performance for Training set\n",
      "- Accuracy: 0.5962\n",
      "- precision: 0.7451\n",
      "- recall: 0.5962\n",
      "- F1-Score: 0.5243\n",
      "----------------------------------\n",
      "Model performance for Test set\n",
      "- Accuracy: 0.5995\n",
      "- precision: 0.7351\n",
      "- recall: 0.5995\n",
      "- F1-Score: 0.5302\n",
      "===================================\n",
      "\n",
      "\n",
      "Random Forest\n",
      "Model performance for Training set\n",
      "- Accuracy: 1.0000\n",
      "- precision: 1.0000\n",
      "- recall: 1.0000\n",
      "- F1-Score: 1.0000\n",
      "----------------------------------\n",
      "Model performance for Test set\n",
      "- Accuracy: 0.9009\n",
      "- precision: 0.9015\n",
      "- recall: 0.9009\n",
      "- F1-Score: 0.9009\n",
      "===================================\n",
      "\n",
      "\n",
      "Gradient Boosting\n",
      "Model performance for Training set\n",
      "- Accuracy: 0.7572\n",
      "- precision: 0.7997\n",
      "- recall: 0.7572\n",
      "- F1-Score: 0.7484\n",
      "----------------------------------\n",
      "Model performance for Test set\n",
      "- Accuracy: 0.7353\n",
      "- precision: 0.7743\n",
      "- recall: 0.7353\n",
      "- F1-Score: 0.7251\n",
      "===================================\n",
      "\n",
      "\n"
     ]
    }
   ],
   "source": [
    "model_list = []\n",
    "Acc_list =[]\n",
    "for i in range(len(list(models))):\n",
    "    model = list(models.values())[i]\n",
    "    model.fit(X_trainV, y_train) # Train model\n",
    "\n",
    "    # Make predictions\n",
    "    ytrain_pred = model.predict(X_trainV)\n",
    "    ytest_pred = model.predict(X_testV)\n",
    "    \n",
    "    # Evaluate Train and Test dataset\n",
    "    train_acc, train_pre, train_rec, train_f1, train_cm = evaluate_model(y_train, ytrain_pred)\n",
    "\n",
    "    test_acc, test_pre, test_rec, test_f1, test_cm = evaluate_model(y_test, ytest_pred)\n",
    "\n",
    "    \n",
    "    print(list(models.keys())[i])\n",
    "    model_list.append(list(models.keys())[i])\n",
    "    \n",
    "    print('Model performance for Training set')\n",
    "    print(\"- Accuracy: {:.4f}\".format(train_acc))\n",
    "    print(\"- precision: {:.4f}\".format(train_pre))\n",
    "    print(\"- recall: {:.4f}\".format(train_rec))\n",
    "    print(\"- F1-Score: {:.4f}\".format(train_f1))\n",
    "\n",
    "    print('----------------------------------')\n",
    "    \n",
    "    print('Model performance for Test set')\n",
    "    print(\"- Accuracy: {:.4f}\".format(test_acc))\n",
    "    print(\"- precision: {:.4f}\".format(test_pre))\n",
    "    print(\"- recall: {:.4f}\".format(test_rec))\n",
    "    print(\"- F1-Score: {:.4f}\".format(test_f1))\n",
    "    Acc_list.append(test_acc)\n",
    "    \n",
    "    print('='*35)\n",
    "    print('\\n')"
   ]
  },
  {
   "cell_type": "code",
   "execution_count": 18,
   "metadata": {},
   "outputs": [
    {
     "data": {
      "text/html": [
       "<div>\n",
       "<style scoped>\n",
       "    .dataframe tbody tr th:only-of-type {\n",
       "        vertical-align: middle;\n",
       "    }\n",
       "\n",
       "    .dataframe tbody tr th {\n",
       "        vertical-align: top;\n",
       "    }\n",
       "\n",
       "    .dataframe thead th {\n",
       "        text-align: right;\n",
       "    }\n",
       "</style>\n",
       "<table border=\"1\" class=\"dataframe\">\n",
       "  <thead>\n",
       "    <tr style=\"text-align: right;\">\n",
       "      <th></th>\n",
       "      <th>Model</th>\n",
       "      <th>Accuracy</th>\n",
       "    </tr>\n",
       "  </thead>\n",
       "  <tbody>\n",
       "    <tr>\n",
       "      <th>3</th>\n",
       "      <td>Random Forest</td>\n",
       "      <td>0.900905</td>\n",
       "    </tr>\n",
       "    <tr>\n",
       "      <th>1</th>\n",
       "      <td>Naive Bayes</td>\n",
       "      <td>0.819005</td>\n",
       "    </tr>\n",
       "    <tr>\n",
       "      <th>0</th>\n",
       "      <td>KNN</td>\n",
       "      <td>0.815385</td>\n",
       "    </tr>\n",
       "    <tr>\n",
       "      <th>4</th>\n",
       "      <td>Gradient Boosting</td>\n",
       "      <td>0.735294</td>\n",
       "    </tr>\n",
       "    <tr>\n",
       "      <th>2</th>\n",
       "      <td>Decision Tree</td>\n",
       "      <td>0.599548</td>\n",
       "    </tr>\n",
       "  </tbody>\n",
       "</table>\n",
       "</div>"
      ],
      "text/plain": [
       "               Model  Accuracy\n",
       "3      Random Forest  0.900905\n",
       "1        Naive Bayes  0.819005\n",
       "0                KNN  0.815385\n",
       "4  Gradient Boosting  0.735294\n",
       "2      Decision Tree  0.599548"
      ]
     },
     "execution_count": 18,
     "metadata": {},
     "output_type": "execute_result"
    }
   ],
   "source": [
    "pd.DataFrame(list(zip(model_list, Acc_list)), columns=['Model', 'Accuracy']).sort_values(by=[\"Accuracy\"],ascending=False)"
   ]
  },
  {
   "cell_type": "markdown",
   "metadata": {},
   "source": [
    "## Evaluate the Random Forest model:"
   ]
  },
  {
   "cell_type": "code",
   "execution_count": 22,
   "metadata": {},
   "outputs": [
    {
     "name": "stdout",
     "output_type": "stream",
     "text": [
      "Accuracy: 0.900905, Precision: 0.901481, Recall: 0.900905, F1 score: 0.900883\n"
     ]
    }
   ],
   "source": [
    "model = RandomForestClassifier(n_estimators=100, random_state=42, bootstrap=True)\n",
    "\n",
    "model.fit(X_trainV, y_train)\n",
    "\n",
    "y_pred = model.predict(X_testV)\n",
    "\n",
    "acc, pre, rec, f1, cm = evaluate_model(y_test, y_pred)\n",
    "print(f'Accuracy: {acc:2f}, Precision: {pre:2f}, Recall: {rec:2f}, F1 score: {f1:2f}')\n"
   ]
  },
  {
   "cell_type": "code",
   "execution_count": 23,
   "metadata": {},
   "outputs": [
    {
     "data": {
      "image/png": "[encoded data removed]",
      "text/plain": [
       "<Figure size 640x480 with 2 Axes>"
      ]
     },
     "metadata": {},
     "output_type": "display_data"
    }
   ],
   "source": [
    "# Create a ConfusionMatrixDisplay object\n",
    "disp = ConfusionMatrixDisplay(confusion_matrix=cm, display_labels=['Fake', 'Ture'])  # adjust labels based on your classes\n",
    "\n",
    "# Plot the confusion matrix\n",
    "disp.plot(cmap='Blues')  # You can change the color map if needed\n",
    "plt.show()"
   ]
  },
  {
   "cell_type": "code",
   "execution_count": null,
   "metadata": {},
   "outputs": [],
   "source": []
  }
 ],
 "metadata": {
  "kernelspec": {
   "display_name": "myenv",
   "language": "python",
   "name": "python3"
  },
  "language_info": {
   "codemirror_mode": {
    "name": "ipython",
    "version": 3
   },
   "file_extension": ".py",
   "mimetype": "text/x-python",
   "name": "python",
   "nbconvert_exporter": "python",
   "pygments_lexer": "ipython3",
   "version": "3.11.0"
  }
 },
 "nbformat": 4,
 "nbformat_minor": 2
}
